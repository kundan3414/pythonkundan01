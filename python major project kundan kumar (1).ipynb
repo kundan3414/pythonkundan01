{
 "cells": [
  {
   "cell_type": "code",
   "execution_count": 113,
   "id": "5ec0a5d1",
   "metadata": {},
   "outputs": [
    {
     "name": "stdout",
     "output_type": "stream",
     "text": [
      "5\n",
      "john\n"
     ]
    }
   ],
   "source": [
    "#Q1. Find the datatype of these two declaration :\n",
    "x = 5\n",
    "y = \"john\"\n",
    "\n",
    "print(x)\n",
    "print(y)\n",
    " \n",
    "    "
   ]
  },
  {
   "cell_type": "code",
   "execution_count": 115,
   "id": "f9a45e07",
   "metadata": {},
   "outputs": [],
   "source": [
    " #Q2. Check whether the following syntax is valid or invalid for naminga variable.\n",
    "\n",
    "\n",
    "\n",
    "\n",
    "abc = 100;\n"
   ]
  },
  {
   "cell_type": "code",
   "execution_count": 14,
   "id": "e1fee8c5",
   "metadata": {},
   "outputs": [
    {
     "ename": "SyntaxError",
     "evalue": "invalid decimal literal (1728268650.py, line 1)",
     "output_type": "error",
     "traceback": [
      "\u001b[1;36m  Cell \u001b[1;32mIn[14], line 1\u001b[1;36m\u001b[0m\n\u001b[1;33m    3a = 10;\u001b[0m\n\u001b[1;37m    ^\u001b[0m\n\u001b[1;31mSyntaxError\u001b[0m\u001b[1;31m:\u001b[0m invalid decimal literal\n"
     ]
    }
   ],
   "source": [
    "3a = 10;"
   ]
  },
  {
   "cell_type": "code",
   "execution_count": 15,
   "id": "b28810f8",
   "metadata": {},
   "outputs": [
    {
     "ename": "SyntaxError",
     "evalue": "invalid syntax. Maybe you meant '==' or ':=' instead of '='? (3408523836.py, line 1)",
     "output_type": "error",
     "traceback": [
      "\u001b[1;36m  Cell \u001b[1;32mIn[15], line 1\u001b[1;36m\u001b[0m\n\u001b[1;33m    @abc = 10;\u001b[0m\n\u001b[1;37m     ^\u001b[0m\n\u001b[1;31mSyntaxError\u001b[0m\u001b[1;31m:\u001b[0m invalid syntax. Maybe you meant '==' or ':=' instead of '='?\n"
     ]
    }
   ],
   "source": [
    "@abc = 10;"
   ]
  },
  {
   "cell_type": "code",
   "execution_count": 16,
   "id": "2ef5ec4f",
   "metadata": {},
   "outputs": [],
   "source": [
    "a100 = 100;"
   ]
  },
  {
   "cell_type": "code",
   "execution_count": 18,
   "id": "8eb87ef7",
   "metadata": {},
   "outputs": [],
   "source": [
    "_a984_ = 100;"
   ]
  },
  {
   "cell_type": "code",
   "execution_count": 20,
   "id": "80db9870",
   "metadata": {},
   "outputs": [
    {
     "ename": "SyntaxError",
     "evalue": "invalid syntax (1569389193.py, line 1)",
     "output_type": "error",
     "traceback": [
      "\u001b[1;36m  Cell \u001b[1;32mIn[20], line 1\u001b[1;36m\u001b[0m\n\u001b[1;33m    a9967$ = 100;\u001b[0m\n\u001b[1;37m         ^\u001b[0m\n\u001b[1;31mSyntaxError\u001b[0m\u001b[1;31m:\u001b[0m invalid syntax\n"
     ]
    }
   ],
   "source": [
    "a9967$ = 100;"
   ]
  },
  {
   "cell_type": "code",
   "execution_count": 24,
   "id": "b7d4cbc9",
   "metadata": {},
   "outputs": [
    {
     "ename": "SyntaxError",
     "evalue": "cannot assign to expression here. Maybe you meant '==' instead of '='? (2872160419.py, line 1)",
     "output_type": "error",
     "traceback": [
      "\u001b[1;36m  Cell \u001b[1;32mIn[24], line 1\u001b[1;36m\u001b[0m\n\u001b[1;33m    xyz-2 = 100;\u001b[0m\n\u001b[1;37m    ^\u001b[0m\n\u001b[1;31mSyntaxError\u001b[0m\u001b[1;31m:\u001b[0m cannot assign to expression here. Maybe you meant '==' instead of '='?\n"
     ]
    }
   ],
   "source": [
    "xyz-2 = 100;"
   ]
  },
  {
   "cell_type": "code",
   "execution_count": 108,
   "id": "dacfc077",
   "metadata": {},
   "outputs": [
    {
     "name": "stdout",
     "output_type": "stream",
     "text": [
      "[1, 6, 3, 5, 3, 4]\n",
      "[1, 6, 3, 5, 3, 4]\n",
      "2\n",
      "0\n",
      "[1, 6, 3, 5, 3, 4]\n",
      "2\n",
      "0\n",
      "[1, 6, 3, 5, 3, 4]\n",
      "2\n",
      "0\n",
      "[1, 6, 3, 5, 3, 4]\n",
      "2\n",
      "0\n",
      "[1, 6, 3, 5, 3, 4]\n",
      "2\n",
      "0\n",
      "[1, 6, 3, 5, 3, 4]\n",
      "2\n",
      "0\n"
     ]
    }
   ],
   "source": [
    "#Q3Check if element exists in list in Python :\n",
    "#Check if 3 exist or not.\n",
    "list= test_list = [1,6,3,5,3,4]\n",
    "print(test_list),\n",
    "for i in list:\n",
    "    print(list)\n",
    "    print(list.count(3))\n",
    "    \n",
    "    #. Check if 9 exists or not.\n",
    "    print(test_list.count(9))"
   ]
  },
  {
   "cell_type": "code",
   "execution_count": 110,
   "id": "529be968",
   "metadata": {},
   "outputs": [
    {
     "name": "stdout",
     "output_type": "stream",
     "text": [
      "2023-07-18 16:37:07\n"
     ]
    }
   ],
   "source": [
    "#Q4.Take the user input to print the current date.\n",
    "\n",
    "import datetime\n",
    "now = datetime.datetime.now()\n",
    "print(now.strftime(\"%Y-%m-%d %H:%M:%S\"))\n",
    "date = now.strftime(\"%Y-%m-%d\")\n"
   ]
  },
  {
   "cell_type": "code",
   "execution_count": 111,
   "id": "4d30c810",
   "metadata": {},
   "outputs": [
    {
     "name": "stdout",
     "output_type": "stream",
     "text": [
      "4\n",
      "1\n"
     ]
    }
   ],
   "source": [
    "#Q5.what is the output of the following code :\n",
    "\n",
    "#a. print 9//2\n",
    "\n",
    "x, y = 9 , 2\n",
    "print(x // y)\n",
    "\n",
    "#b. print 9%2\n",
    "\n",
    "print(x % y)\n"
   ]
  },
  {
   "cell_type": "code",
   "execution_count": 112,
   "id": "e86e8e65",
   "metadata": {},
   "outputs": [
    {
     "name": "stdout",
     "output_type": "stream",
     "text": [
      "1\n",
      "2\n",
      "3\n",
      "4\n",
      "5\n",
      "6\n",
      "7\n",
      "8\n",
      "9\n",
      "10\n"
     ]
    }
   ],
   "source": [
    "#Q6.Print First 10 natural numbers using a while loop\n",
    "\n",
    "i=1\n",
    "while i<=10:\n",
    "    print(i)\n",
    "    i+=1\n",
    "        \n",
    "       \n",
    "    "
   ]
  },
  {
   "cell_type": "code",
   "execution_count": 12,
   "id": "576e705f",
   "metadata": {},
   "outputs": [
    {
     "name": "stdout",
     "output_type": "stream",
     "text": [
      "55\n",
      "Enter a number:10\n",
      "sum of all number from 1 to given number: 0\n",
      "sum of all number from 1 to given number: 1\n",
      "sum of all number from 1 to given number: 3\n",
      "sum of all number from 1 to given number: 6\n",
      "sum of all number from 1 to given number: 10\n",
      "sum of all number from 1 to given number: 15\n",
      "sum of all number from 1 to given number: 21\n",
      "sum of all number from 1 to given number: 28\n",
      "sum of all number from 1 to given number: 36\n",
      "sum of all number from 1 to given number: 45\n",
      "sum of all number from 1 to given number: 55\n"
     ]
    }
   ],
   "source": [
    "#7. Write a program to accept a number from a user and calculate\n",
    "\n",
    "\n",
    "x=1,2,3,4,5,6,7,8,9,10\n",
    "print(sum(x))\n",
    "\n",
    "n = int(input(\"Enter a number:\"))\n",
    "s = 0\n",
    "for i in range(n+1):\n",
    "    s+=i\n",
    "    print(\"sum of all number from 1 to given number:\",s)\n",
    "\n"
   ]
  },
  {
   "cell_type": "code",
   "execution_count": 13,
   "id": "a693b52d",
   "metadata": {},
   "outputs": [
    {
     "name": "stdout",
     "output_type": "stream",
     "text": [
      "1\n",
      "2\n",
      "Fizz\n",
      "4\n",
      "Buzz\n",
      "Fizz\n",
      "7\n",
      "8\n",
      "Fizz\n",
      "Buzz\n",
      "11\n",
      "Fizz\n",
      "13\n",
      "14\n",
      "FizzBuzz\n",
      "16\n",
      "17\n",
      "Fizz\n",
      "19\n",
      "Buzz\n",
      "Fizz\n",
      "22\n",
      "23\n",
      "Fizz\n",
      "Buzz\n",
      "26\n",
      "Fizz\n",
      "28\n",
      "29\n",
      "FizzBuzz\n",
      "31\n",
      "32\n",
      "Fizz\n",
      "34\n",
      "Buzz\n",
      "Fizz\n",
      "37\n",
      "38\n",
      "Fizz\n",
      "Buzz\n",
      "41\n",
      "Fizz\n",
      "43\n",
      "44\n",
      "FizzBuzz\n",
      "46\n",
      "47\n",
      "Fizz\n",
      "49\n",
      "Buzz\n"
     ]
    }
   ],
   "source": [
    "#Q8 Write a Python program which iterates the integers from 1 to 50.\n",
    "#For multiples of three print \"Fizz\" instead of the number and for\n",
    "#the multiples of five print \"Buzz\". For numbers which are\n",
    "#multiples of both three and five print \"FizzBuzz.\n",
    "\n",
    "\n",
    "for i in range(1,51):\n",
    "    if(i%3==0 and i%5==0):\n",
    "        print(\"FizzBuzz\")\n",
    "    \n",
    "    elif(i%3 == 0):\n",
    "        print(\"Fizz\")\n",
    "    \n",
    "    \n",
    "    elif(i%5 ==0):\n",
    "        print(\"Buzz\")\n",
    "    \n",
    "    else:\n",
    "        print(i)\n",
    "    \n",
    " \n",
    "    \n",
    "\n"
   ]
  },
  {
   "cell_type": "code",
   "execution_count": null,
   "id": "2e37a9b5",
   "metadata": {},
   "outputs": [],
   "source": []
  }
 ],
 "metadata": {
  "kernelspec": {
   "display_name": "Python 3 (ipykernel)",
   "language": "python",
   "name": "python3"
  },
  "language_info": {
   "codemirror_mode": {
    "name": "ipython",
    "version": 3
   },
   "file_extension": ".py",
   "mimetype": "text/x-python",
   "name": "python",
   "nbconvert_exporter": "python",
   "pygments_lexer": "ipython3",
   "version": "3.11.3"
  }
 },
 "nbformat": 4,
 "nbformat_minor": 5
}
